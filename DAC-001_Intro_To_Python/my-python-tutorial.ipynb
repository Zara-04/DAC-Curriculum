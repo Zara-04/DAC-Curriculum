{
 "cells": [
  {
   "cell_type": "code",
   "execution_count": 14,
   "metadata": {},
   "outputs": [
    {
     "name": "stdout",
     "output_type": "stream",
     "text": [
      "('apple', 'orange', 'banana')\n"
     ]
    },
    {
     "ename": "AttributeError",
     "evalue": "'tuple' object has no attribute 'append'",
     "output_type": "error",
     "traceback": [
      "\u001b[1;31m---------------------------------------------------------------------------\u001b[0m",
      "\u001b[1;31mAttributeError\u001b[0m                            Traceback (most recent call last)",
      "Cell \u001b[1;32mIn[14], line 7\u001b[0m\n\u001b[0;32m      4\u001b[0m \u001b[38;5;28mprint\u001b[39m(fruits)\n\u001b[0;32m      6\u001b[0m \u001b[38;5;66;03m# (b) Add \"tomato\" to the end of the fruits list\u001b[39;00m\n\u001b[1;32m----> 7\u001b[0m fruits\u001b[38;5;241m.\u001b[39mappend(\u001b[38;5;124m\"\u001b[39m\u001b[38;5;124mtomato\u001b[39m\u001b[38;5;124m\"\u001b[39m)\n\u001b[0;32m      8\u001b[0m \u001b[38;5;28mprint\u001b[39m(fruits)\n\u001b[0;32m     10\u001b[0m \u001b[38;5;66;03m# (c) Remove \"apple\" from the fruits list\u001b[39;00m\n",
      "\u001b[1;31mAttributeError\u001b[0m: 'tuple' object has no attribute 'append'"
     ]
    }
   ],
   "source": [
    "# Task 1\n",
    "# a) Create a list named 'fruits' with the items \"apple\", \"orange\", and \"banana\"\n",
    "fruits = \"apple\", \"orange\", \"banana\"\n",
    "print(fruits)\n",
    "\n",
    "# (b) Add \"tomato\" to the end of the fruits list\n",
    "fruits.append(\"tomato\")\n",
    "print(fruits)\n",
    "\n",
    "# (c) Remove \"apple\" from the fruits list\n",
    "fruits.remove(\"apple\")\n",
    "print(fruits)"
   ]
  },
  {
   "cell_type": "code",
   "execution_count": 13,
   "metadata": {},
   "outputs": [
    {
     "name": "stdout",
     "output_type": "stream",
     "text": [
      "('physics', 'chemistry', 'english', 'math', 'biology')\n",
      "('physics', 'chemistry', 'english', 'math', 'biology', 'literature')\n",
      "6\n"
     ]
    }
   ],
   "source": [
    "# Task 2\n",
    "# (a) Create a tuple named 'subjects' with the elements\n",
    "subjects = (\"physics\", \"chemistry\", \"english\", \"math\", \"biology\")\n",
    "print(subjects)\n",
    "\n",
    "#(b) Add \"literature\" to the list \n",
    "subjects_list = list(subjects)\n",
    "subjects_list.append(\"literature\")\n",
    "subjects = tuple(subjects_list)\n",
    "print(subjects) \n",
    "\n",
    "# (c) Count the number of elements in the 'subjects' tuple\n",
    "print(len(subjects))"
   ]
  },
  {
   "cell_type": "code",
   "execution_count": 17,
   "metadata": {},
   "outputs": [
    {
     "name": "stdout",
     "output_type": "stream",
     "text": [
      "[10, 9, 8, 7, 6, 3]\n",
      "[]\n"
     ]
    }
   ],
   "source": [
    "# Task 3\n",
    "# (a) Create a list named students_id\n",
    "students_id = [10, 6, 7, 8, 9, 3]\n",
    "\n",
    "# (b) Sort the list in descending order and reinitialize it as sorted_students_id\n",
    "sorted_students_id = sorted(students_id, reverse=True)\n",
    "print(sorted_students_id)  # Output the sorted list\n",
    "\n",
    "# (c) Remove all elements from the sorted_students_id list\n",
    "sorted_students_id.clear()\n",
    "print(sorted_students_id)  # Output the now empty list"
   ]
  },
  {
   "cell_type": "code",
   "execution_count": 18,
   "metadata": {},
   "outputs": [
    {
     "name": "stdout",
     "output_type": "stream",
     "text": [
      "[15, 12, 9, 6, 3]\n"
     ]
    }
   ],
   "source": [
    "# Task 4\n",
    "# Generate a list of numbers starting from 15, decreasing by 3 each step, and stopping before zero\n",
    "desc_list = list(range(15, 0, -3))\n",
    "print(desc_list)  # Output the generated list"
   ]
  },
  {
   "cell_type": "code",
   "execution_count": 20,
   "metadata": {},
   "outputs": [
    {
     "name": "stdout",
     "output_type": "stream",
     "text": [
      "[2, 4, 6, 8, 10, 12, 14, 16, 18, 20, 22, 24, 26, 28]\n",
      "[2, 4, 6, 8, 10, 12, 14, 16, 18, 20, 22, 24, 26, 28]\n"
     ]
    }
   ],
   "source": [
    "# Task 5\n",
    "# Generate a list of 14 numbers starting from 2, increasing by 2 each step\n",
    "\n",
    "##this is an alternative method to do this question\n",
    "asc_list = [2 * i for i in range(1, 15)]  # This generates multiples of 2, with 14 elements\n",
    "print(asc_list)  # Output the generated list\n",
    "# Initialize an empty list\n",
    "asc_list = []\n",
    "\n",
    "# Generate a list of 14 numbers starting from 2, increasing by 2 each step\n",
    "for i in range(1, 15):  # Loop from 1 to 14\n",
    "    asc_list.append(2 * i)  # Append each multiple of 2 to the list\n",
    "\n",
    "# Output the generated list\n",
    "print(asc_list)"
   ]
  },
  {
   "cell_type": "code",
   "execution_count": 1,
   "metadata": {},
   "outputs": [
    {
     "name": "stdout",
     "output_type": "stream",
     "text": [
      "Combined List: [15, 12, 9, 6, 3, 2, 4, 6, 8, 10, 12, 14, 16, 18, 20, 22, 24, 26, 28]\n"
     ]
    }
   ],
   "source": [
    "# Task 6\n",
    "\n",
    "# Desc_list and asc_list are already defined\n",
    "desc_list = [15, 12, 9, 6, 3]  # From the previous task\n",
    "asc_list = [2, 4, 6, 8, 10, 12, 14, 16, 18, 20, 22, 24, 26, 28]  # From the previous task\n",
    "\n",
    "# Combine the two lists\n",
    "combined_list = desc_list + asc_list\n",
    "print(\"Combined List:\", combined_list)"
   ]
  },
  {
   "cell_type": "code",
   "execution_count": null,
   "metadata": {},
   "outputs": [],
   "source": [
    "# Task 7\n",
    "# Initialize empty lists for even and odd numbers\n",
    "even_numbers = []\n",
    "odd_numbers = []\n",
    "\n",
    "# Separate even and odd numbers using a for loop\n",
    "for num in combined_list:\n",
    "    if num % 2 == 0:\n",
    "        even_numbers.append(num)  # Add to even_numbers if the number is even\n",
    "    else:\n",
    "        odd_numbers.append(num)    # Add to odd_numbers if the number is odd\n",
    "\n",
    "# Print the results\n",
    "print(\"Even Numbers:\", even_numbers)\n",
    "print(\"Odd Numbers:\", odd_numbers)\n"
   ]
  }
 ],
 "metadata": {
  "kernelspec": {
   "display_name": "Python 3",
   "language": "python",
   "name": "python3"
  },
  "language_info": {
   "codemirror_mode": {
    "name": "ipython",
    "version": 3
   },
   "file_extension": ".py",
   "mimetype": "text/x-python",
   "name": "python",
   "nbconvert_exporter": "python",
   "pygments_lexer": "ipython3",
   "version": "3.12.4"
  }
 },
 "nbformat": 4,
 "nbformat_minor": 2
}
